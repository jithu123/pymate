{
 "cells": [
  {
   "cell_type": "markdown",
   "metadata": {},
   "source": [
    "# Python Nuggets"
   ]
  },
  {
   "cell_type": "markdown",
   "metadata": {},
   "source": [
    "### Download compressed (tgz) data from a URL and extract"
   ]
  },
  {
   "cell_type": "code",
   "execution_count": 2,
   "metadata": {
    "collapsed": true
   },
   "outputs": [],
   "source": [
    "import os\n",
    "import tarfile\n",
    "from six.moves import urllib\n",
    "\n",
    "def fetch_data(download_url, download_directory):\n",
    "    if not os.path.isdir(download_directory):\n",
    "        os.makedirs(download_directory)\n",
    "    tgz_path = os.path.join(download_directory, \"downloadfile.tgz\")\n",
    "    urllib.request.urlretrieve(download_url, tgz_path)\n",
    "    file_tgz = tarfile.open(tgz_path)\n",
    "    file_tgz.extractall(path=download_directory)\n",
    "    file_tgz.close()\n",
    "    \n",
    "fetch_data(\"http://www.aueb.gr/users/ion/data/lingspam_public.tar.gz\", \"/Users/jithendr/jupyter_notebooks/dataset\")    \n",
    "    "
   ]
  },
  {
   "cell_type": "code",
   "execution_count": null,
   "metadata": {
    "collapsed": true
   },
   "outputs": [],
   "source": []
  }
 ],
 "metadata": {
  "kernelspec": {
   "display_name": "Python 3",
   "language": "python",
   "name": "python3"
  },
  "language_info": {
   "codemirror_mode": {
    "name": "ipython",
    "version": 3
   },
   "file_extension": ".py",
   "mimetype": "text/x-python",
   "name": "python",
   "nbconvert_exporter": "python",
   "pygments_lexer": "ipython3",
   "version": "3.6.1"
  }
 },
 "nbformat": 4,
 "nbformat_minor": 2
}
